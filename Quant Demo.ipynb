{
 "cells": [
  {
   "cell_type": "code",
   "execution_count": 12,
   "metadata": {},
   "outputs": [],
   "source": [
    "# This project shows how to calculate betas, use them to make a strategy, and test a strategy for statistical significance. \n",
    "import pandas as pd\n",
    "btc_data = pd.read_csv(\"historic_data\\Bittrex_BTCUSD_d.csv\")\n",
    "eth_data = pd.read_csv(\"historic_data\\Bittrex_ETHUSD_d.csv\")\n",
    "btc_data = btc_data[0:len(eth_data)] # Only consider BTC Data starting from when we have ETH data"
   ]
  },
  {
   "cell_type": "code",
   "execution_count": 13,
   "metadata": {},
   "outputs": [
    {
     "name": "stdout",
     "output_type": "stream",
     "text": [
      "   Unix Timestamp        Date  Symbol      Open      High       Low     Close  \\\n",
      "0      1605830400  11/20/2020  BTCUSD  17824.13  18234.99  17773.37  18113.58   \n",
      "1      1605744000  11/19/2020  BTCUSD  17801.21  18177.93  17367.00  17824.13   \n",
      "2      1605657600  11/18/2020  BTCUSD  17685.78  18475.39  17002.00  17801.21   \n",
      "3      1605571200  11/17/2020  BTCUSD  16722.99  17871.94  16578.05  17685.78   \n",
      "4      1605484800  11/16/2020  BTCUSD  15975.90  16890.00  15884.05  16722.99   \n",
      "\n",
      "   Volume BTC   Volume USD  \n",
      "0      173.44   3124710.12  \n",
      "1      648.25  11571312.72  \n",
      "2     1593.92  28459068.29  \n",
      "3      977.37  16938093.61  \n",
      "4      563.25   9313382.63  \n"
     ]
    }
   ],
   "source": [
    "# Here's what our data looks like:\n",
    "print(btc_data[:5])"
   ]
  },
  {
   "cell_type": "code",
   "execution_count": 14,
   "metadata": {},
   "outputs": [
    {
     "name": "stdout",
     "output_type": "stream",
     "text": [
      "          Date  BTC_Open  ETH_Open  BTC_Return  ETH_Return\n",
      "300  1/25/2020   8441.08    158.95    0.523154   -2.316863\n",
      "301  1/24/2020   8397.15    162.72   -3.124712   -2.469432\n",
      "302  1/23/2020   8668.00    166.84   -0.639060   -1.435576\n",
      "303  1/22/2020   8723.75    169.27    1.158767    2.345970\n",
      "304  1/21/2020   8623.82    165.39   -0.899895   -0.898796\n"
     ]
    }
   ],
   "source": [
    "# Create a dataframe with the info we want \n",
    "df = pd.DataFrame(columns = [\"Date\", \"BTC_Open\", \"ETH_Open\"],\n",
    "                  data = {\"Date\" : btc_data['Date'], \"BTC_Open\" : btc_data['Open'], \"ETH_Open\" : eth_data['Open']})\n",
    "# Calculate returns -- return is % price diff from yesterday to today\n",
    "x = (df['BTC_Open'][0:1297].values / df['BTC_Open'][1:1298].values - 1) * 100\n",
    "y = (df['ETH_Open'][0:1297].values / df['ETH_Open'][1:1298].values - 1) * 100\n",
    "df = df[:1297]\n",
    "df['BTC_Return'] = x\n",
    "df['ETH_Return'] = y\n",
    "# Let's save 300 datapoints for testing\n",
    "testing = df[0:300]\n",
    "df = df[300:]\n",
    "# Here's what our data looks like:\n",
    "print(df[:5])"
   ]
  },
  {
   "cell_type": "code",
   "execution_count": 15,
   "metadata": {},
   "outputs": [
    {
     "name": "stdout",
     "output_type": "stream",
     "text": [
      "Beta from ETH to BTC: 0.8547960997797627\n"
     ]
    }
   ],
   "source": [
    "# Beta from A to B: Cov(A_returns, B_returns) / variance(B_returns)\n",
    "# 1. Beta tells you how much you expect A to move, given how much B moved. \n",
    "# A_return = beta * B_return, which is the MSE linreg with intercept=0\n",
    "# 2. Beta tells you much A you should buy for every B in order to maximially hedge\n",
    "# We want the beta from ETH to BTC\n",
    "eth_avg = df['ETH_Return'].mean()\n",
    "btc_avg = df['BTC_Return'].mean()\n",
    "cov = ((df['BTC_Return'] - btc_avg) * (df['ETH_Return'] - eth_avg)).sum() / (len(df) - 1)\n",
    "v = ((df['BTC_Return'] - btc_avg) ** 2).sum() / (len(df) - 1)\n",
    "beta = cov / v \n",
    "print(\"Beta from ETH to BTC: \" + str(beta))"
   ]
  },
  {
   "cell_type": "code",
   "execution_count": 16,
   "metadata": {},
   "outputs": [
    {
     "name": "stdout",
     "output_type": "stream",
     "text": [
      "Mean error on training data using beta prediction: 2.80530653555051\n",
      "Mean error using naive prediction: 4.047695373573443\n",
      "(Error is the difference between [predicted % return] and [real % return])\n"
     ]
    }
   ],
   "source": [
    "# Now we have our first model of eth return and eth price at open\n",
    "# ETH_Return = beta * BTC_Return\n",
    "# ETH_Open = ETH_Open(yesterday) + beta * BTC_Return * ETH_Open(yesterday)\n",
    "df['Predicted'] = df['BTC_Return'] * beta \n",
    "# Let's compare this to the naive model, which models ETH_Return as the avg eth_return over the period\n",
    "df['Naive'] = eth_avg\n",
    "# Predicted will necessarily do better on a MSE (Mean Square Error) comparison on this data set, because beta is the coefficient for a lin reg that minimizes MSE\n",
    "# Let's test on mean absolute error instead\n",
    "pred_error = (abs(df['Predicted'] - df['ETH_Return'])).sum() / len(df)\n",
    "naive_error = (abs(df['Naive'] - df['ETH_Return'])).sum() / len(df)\n",
    "print(\"Mean error on training data using beta prediction: \" + str(pred_error))\n",
    "print(\"Mean error using naive prediction: \" + str(naive_error))\n",
    "print(\"(Error is the difference between [predicted % return] and [real % return])\")"
   ]
  },
  {
   "cell_type": "code",
   "execution_count": 17,
   "metadata": {},
   "outputs": [
    {
     "name": "stdout",
     "output_type": "stream",
     "text": [
      "Mean error on testing data using beta prediction: 2.0556073514943343\n",
      "Mean error on using naive prediction: 3.449547461142158\n"
     ]
    }
   ],
   "source": [
    "# Now let's try this on the testing data\n",
    "testing['Predicted'] = testing['BTC_Return'] * beta \n",
    "testing['Naive'] = eth_avg\n",
    "pred_error = (abs(testing['Predicted'] - testing['ETH_Return'])).sum() / len(testing)\n",
    "naive_error = (abs(testing['Naive'] - testing['ETH_Return'])).sum() / len(testing)\n",
    "print(\"Mean error on testing data using beta prediction: \" + str(pred_error))\n",
    "print(\"Mean error on using naive prediction: \" + str(naive_error))"
   ]
  },
  {
   "cell_type": "code",
   "execution_count": 18,
   "metadata": {},
   "outputs": [
    {
     "name": "stdout",
     "output_type": "stream",
     "text": [
      "Return using strategy: 241.74135480841272\n"
     ]
    }
   ],
   "source": [
    "# Trading strategy sim: At each open, buy Eth if its return is < our model and sell when > model\n",
    "# Let's correct for avg price change during this time -- otherwise we are biased towards buying, since Eth went up during this period\n",
    "# One way to do this is to mark our profit for each \"buy today sell tomorrow\" as tomorrows return - the avg return\n",
    "normalized_next_day_returns =  df[:len(df) - 1]['ETH_Return'] - df[:len(df) - 1]['ETH_Return'].mean()\n",
    "buy = (df[1:]['ETH_Return'] < (df[1:]['BTC_Return'] * beta)) * 2 - 1 # 1 = buy, -1 = sell \n",
    "# Note that buy and normalized_next_day_returns are offset by 1 day \n",
    "profit = normalized_next_day_returns.values * buy.values\n",
    "print(\"Return using strategy: \" + str(profit.sum()))"
   ]
  },
  {
   "cell_type": "code",
   "execution_count": 19,
   "metadata": {},
   "outputs": [
    {
     "name": "stdout",
     "output_type": "stream",
     "text": [
      "Return using the opposite strategy: -241.74135480841272\n",
      "Sum of returns: -1.1368683772161603e-13\n"
     ]
    }
   ],
   "source": [
    "# It seems like we would have made 240% over ~3 years with this strategy.\n",
    "# Sanity check: do we get the opposite result with the opposite strategy? Do returns sum to 0?\n",
    "sell = (df[1:]['ETH_Return'] >= (df[1:]['BTC_Return'] * beta)) * 2 - 1 # 1 = buy, -1 = sell \n",
    "negProfit = normalized_next_day_returns.values * sell.values\n",
    "alwaysBuyProfit = normalized_next_day_returns.values\n",
    "print(\"Return using the opposite strategy: \" + str(negProfit.sum()))\n",
    "print(\"Sum of returns: \" + str(normalized_next_day_returns.values.sum()))"
   ]
  },
  {
   "cell_type": "code",
   "execution_count": 20,
   "metadata": {},
   "outputs": [
    {
     "name": "stdout",
     "output_type": "stream",
     "text": [
      "Profit on testing data using beta strategy: 10.996635468694299\n",
      "Profit using naive strategy: 117.56756066134182\n"
     ]
    }
   ],
   "source": [
    "# How does this do on the testing data?\n",
    "normalized_next_day_returns =  testing[:len(testing) - 1]['ETH_Return'] - testing[:len(testing) - 1]['ETH_Return'].mean()\n",
    "buy = (testing[1:]['ETH_Return'] < (testing[1:]['BTC_Return'] * beta)) * 2 - 1 # 1 = buy, -1 = sell \n",
    "profit = normalized_next_day_returns.values * buy.values\n",
    "print(\"Profit on testing data using beta strategy: \" +str(profit.sum())) \n",
    "# Let's compare this with the \"naive\" trading strategy -- buy if the return is less than the historical avg \n",
    "buy = (testing[1:]['ETH_Return'] < eth_avg) * 2 - 1\n",
    "profit = normalized_next_day_returns.values * buy.values\n",
    "print(\"Profit using naive strategy: \" + str(profit.sum())) "
   ]
  },
  {
   "cell_type": "code",
   "execution_count": 21,
   "metadata": {},
   "outputs": [
    {
     "name": "stdout",
     "output_type": "stream",
     "text": [
      "t-score (my calculation): 1.2774008720162717\n",
      "scipy.stats's calcuation: Ttest_1sampResult(statistic=1.2752629611086745, pvalue=0.20320946844784624)\n",
      "We should consider pvalue/2; scipy uses a two-tailed test, but we want a one-tailed test\n"
     ]
    }
   ],
   "source": [
    "# So the naive did extremely well here -- 117% returns over 300 days. \n",
    "# Let's test this naive strategy for stastical significance.\n",
    "# Null hypothesis: This strategy is no better than a random strategy -- each trade has EV 0\n",
    "\n",
    "# Using a 1 sample t-test\n",
    "t = profit.mean() / (profit.std() / (len(profit) ** (1/2)))\n",
    "print(\"t-score (my calculation): \" + str(t))\n",
    "from scipy.stats import ttest_1samp\n",
    "print(\"scipy.stats's calcuation: \" + str(ttest_1samp(profit, 0))) # Our values essentially agree\n",
    "print(\"We should consider pvalue/2; scipy uses a two-tailed test, but we want a one-tailed test\")"
   ]
  },
  {
   "cell_type": "code",
   "execution_count": 22,
   "metadata": {},
   "outputs": [
    {
     "name": "stdout",
     "output_type": "stream",
     "text": [
      "% of random strategies that do >= than naive strategy: 0.101\n"
     ]
    }
   ],
   "source": [
    "# Another way of testing is by using a monte carlo simulation.\n",
    "# Create 1000 random strategies, and see what % of them perform >= the naive strategy\n",
    "import random\n",
    "profits_above_naive = 0\n",
    "n = 1000\n",
    "for i in range(0, n):\n",
    "    buy = [] \n",
    "    for j in range(0, len(normalized_next_day_returns)):\n",
    "        r = random.randint(0, 1)\n",
    "        buy.append(r * 2 - 1)\n",
    "    rand_profit = (normalized_next_day_returns.values * buy)\n",
    "    if rand_profit.sum() > profit.sum():\n",
    "        profits_above_naive += 1\n",
    "print(\"% of random strategies that do >= than naive strategy: \" + str(profits_above_naive / n))     "
   ]
  },
  {
   "cell_type": "code",
   "execution_count": 23,
   "metadata": {},
   "outputs": [],
   "source": [
    "# Conclusion: We made a model predicting ETH returns using only historical long-term beta from ETH to BTC. \n",
    "# This model predicted ETH's price better than a naive model, unsuprisingly.\n",
    "# The strategy of buy (or sell) ETH at the open if its return is < (or >) its predicted return is probably not profitable.\n",
    "# We also looked at a strategy that traded based on ETH's return compared to its historical returns. \n",
    "# This made money in our test data, but was profitable with p-value .1. \n",
    "# 1. This is not a very impressive p-value. 2. I tested two strategies, so we should discount the p-value a bit. 3. This is a silly strategy, and my prior was heavily against it being truly profitable.\n",
    "# This strategy is probably not profitable either."
   ]
  }
 ],
 "metadata": {
  "kernelspec": {
   "display_name": "Python 3",
   "language": "python",
   "name": "python3"
  },
  "language_info": {
   "codemirror_mode": {
    "name": "ipython",
    "version": 3
   },
   "file_extension": ".py",
   "mimetype": "text/x-python",
   "name": "python",
   "nbconvert_exporter": "python",
   "pygments_lexer": "ipython3",
   "version": "3.7.4"
  }
 },
 "nbformat": 4,
 "nbformat_minor": 2
}
